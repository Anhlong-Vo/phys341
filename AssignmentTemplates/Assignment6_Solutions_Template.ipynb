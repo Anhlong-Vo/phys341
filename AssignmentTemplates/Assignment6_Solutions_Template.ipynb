{
 "cells": [
  {
   "cell_type": "markdown",
   "metadata": {},
   "source": [
    "# Assignment 6 Solutions"
   ]
  },
  {
   "cell_type": "code",
   "execution_count": 1,
   "metadata": {},
   "outputs": [],
   "source": [
    "import numpy as np\n",
    "import scipy.stats as stats\n",
    "import matplotlib.pyplot as plt\n",
    "import pandas as pd\n",
    "\n",
    "from statsmodels.formula.api import ols\n",
    "from statsmodels.stats.anova import anova_lm\n",
    "\n",
    "from scipy.special import gamma\n",
    "\n",
    "def q_tukey(k, v, alpha):\n",
    "\n",
    "    qarray = []\n",
    "    for k in range(2,k+1):\n",
    "        print (\"q_tukey: calculating k = \",k)\n",
    "\n",
    "        dq = 0.003\n",
    "        qd = np.array(np.arange(0.000,6.000,dq))\n",
    "\n",
    "        f = []\n",
    "        fs = []\n",
    "        found = False\n",
    "\n",
    "        for i in range(len(qd)):\n",
    "            q = qd[i]\n",
    "            prefactor = np.sqrt(2.0*np.pi)*k*(k-1)*v**(v/2.0)/(gamma(v/2.0)*2**(v/2.0-1))\n",
    "            npts = 100\n",
    "\n",
    "            xh = 6.0\n",
    "            xl = 0.0\n",
    "            dx = (xh-xl)/npts\n",
    "\n",
    "            x = np.arange(xl,xh,dx)\n",
    "            x = x.reshape(1,-1)\n",
    "    \n",
    "            ul = -6.0\n",
    "            uh = 6.0\n",
    "            du = (uh-ul)/npts\n",
    "            \n",
    "            u = np.arange(ul,uh,du)\n",
    "            u = u.reshape(-1,1)\n",
    "            \n",
    "            phi_u = stats.norm.pdf(u)\n",
    "            phi_ux = stats.norm.pdf(u-q*x)\n",
    "            Phi_u = stats.norm.cdf(u)\n",
    "            Phi_ux = stats.norm.cdf(u-q*x)\n",
    "            phi_x = stats.norm.pdf(np.sqrt(v)*x)\n",
    "            \n",
    "            integrand = x**v*phi_x*phi_u*phi_ux*(Phi_u-Phi_ux)**(k-2)*du*dx\n",
    "            \n",
    "            #print (\"U integral matrix\")\n",
    "            #print(u,phi_u,phi_ux,Phi_u,Phi_ux,phi_x,x**v,integrand)\n",
    "        \n",
    "            sumux = integrand.sum()\n",
    "            \n",
    "            #print (\"U sum\")\n",
    "            #print(sumux)\n",
    "            \n",
    "            #print (\"X sum * prefactor\")\n",
    "            #print (sumux*prefactor)\n",
    "\n",
    "            f.append(sumux*prefactor)\n",
    "            \n",
    "            if (i>0):\n",
    "                fs.append(f[i]*dq+fs[i-1])\n",
    "            else:\n",
    "                fs.append(f[i]*dq)\n",
    "\n",
    "            if (fs[i]>(1-alpha) and not(found)):\n",
    "                q_critical = qd[i-1] + ((1-alpha)-fs[i-1])*(qd[i]-qd[i-1])/(fs[i]-fs[i-1])\n",
    "                print (\"q_critical = \",q_critical)\n",
    "                found = True\n",
    "        \n",
    "            #print(q,f[i],fs[i])\n",
    "            \n",
    "        qarray.append(q_critical)\n",
    "        plt.scatter(q_critical,(1-alpha))\n",
    "    \n",
    "        f = np.array(f)\n",
    "        fs = np.array(fs)\n",
    "        plt.plot(qd,fs)\n",
    "\n",
    "    qarray=np.array(qarray)\n",
    "    return qarray"
   ]
  },
  {
   "cell_type": "markdown",
   "metadata": {},
   "source": [
    "# Question 1\n",
    "\n",
    "The number of miles of useful tread wear (in 1000s) was determined for tires of each of five different makes of subcompact car (factor A, with I = 5) in combination with each of four different brands of radial tires (factor B, with J = 4), resulting in IJ = 20 observations. The values SSA = 30.3, SSB = 44.4, and SSE = 59.3 were then computed. Assume that an additive model is appropriate.\n",
    "\n",
    "(a) Test Ho: α1 = α2 = α3 = α4 = α5 = 0 (no differences in true average tire lifetime due to makes of cars) versus Ha: at least one αi ≠ 0 using a level .05 test. (Give answers accurate to 2 decimal places.)\n",
    "\n",
    "(b) Ho: β1 = β2 = β3 = β4 = 0 (no differences in true average tire lifetime due to brands of tires) versus Ha: at least one βi ≠ 0 using a level .05 test. (Give answers accurate to 2 decimal places.)"
   ]
  },
  {
   "cell_type": "code",
   "execution_count": 8,
   "metadata": {},
   "outputs": [
    {
     "name": "stdout",
     "output_type": "stream",
     "text": [
      "F Signal/Noise A = 1.53 \n",
      "Critical F-value A = 3.26\n",
      "Pvalue A = 0.255\n",
      "Fail to reject the null hypothesis ... P-value is greater than alpha\n",
      "\n",
      "F Signal/Noise B = 2.99 \n",
      "Critical F-value B = 3.49\n",
      "Pvalue B = 0.073\n",
      "Fail to reject the null hypothesis ... P-value is greater than alpha\n",
      "\n",
      "Source     df     Sum of Squares Mean Square     f     P-value\n",
      "A          4       30.20            7.55       1.53    0.255\n",
      "B          3       44.20           14.73       2.99    0.073\n",
      "Error      12      59.10            4.92\n",
      "Total      19     133.50\n"
     ]
    }
   ],
   "source": [
    "a = 5\n",
    "b = 4\n",
    "N = 20\n",
    "\n",
    "SSA  = 30.2\n",
    "SSB = 44.2\n",
    "SSE = 59.1\n",
    "SS_total = SSA + SSB + SSE\n",
    "\n",
    "v_total = N - 1\n",
    "v_a = a - 1\n",
    "v_b = b - 1\n",
    "v_error = v_total - v_a - v_b\n",
    "\n",
    "MS_a = SSA/v_a\n",
    "MS_b = SSB/v_b\n",
    "MS_error = SSE/v_error\n",
    "\n",
    "fSN_a = MS_a/MS_error\n",
    "fSN_b = MS_b/MS_error\n",
    "\n",
    "print (\"F Signal/Noise A = %0.2f \" % fSN_a)\n",
    "\n",
    "alpha = 0.05\n",
    "\n",
    "fdist_a = stats.f(v_a,v_error)\n",
    "fhigh_a = fdist_a.ppf(1-alpha)\n",
    "\n",
    "print (\"Critical F-value A = %0.2f\" % (fhigh_a))\n",
    "\n",
    "if (fSN_a > 1):\n",
    "    pvalue_a = (1-fdist_a.cdf(fSN_a))\n",
    "else:\n",
    "    pvalue_a = fdist_a.cdf(fSN_a)\n",
    "    \n",
    "print (\"Pvalue A = %0.3f\" % (pvalue_a))\n",
    "if (pvalue_a < alpha):\n",
    "    print (\"Reject the null hypothesis ... P-value is less than alpha\")\n",
    "else:\n",
    "    print (\"Fail to reject the null hypothesis ... P-value is greater than alpha\")\n",
    "\n",
    "    \n",
    "print()\n",
    "print (\"F Signal/Noise B = %0.2f \" % fSN_b)\n",
    "\n",
    "fdist_b = stats.f(v_b,v_error)\n",
    "fhigh_b = fdist_b.ppf(1-alpha)\n",
    "\n",
    "print (\"Critical F-value B = %0.2f\" % (fhigh_b))\n",
    "\n",
    "if (fSN_b > 1):\n",
    "    pvalue_b = (1-fdist_b.cdf(fSN_b))\n",
    "else:\n",
    "    pvalue_b = fdist_b.cdf(fSN_b)\n",
    "    \n",
    "print (\"Pvalue B = %0.3f\" % (pvalue_b))\n",
    "if (pvalue_b < alpha):\n",
    "    print (\"Reject the null hypothesis ... P-value is less than alpha\")\n",
    "else:\n",
    "    print (\"Fail to reject the null hypothesis ... P-value is greater than alpha\")\n",
    "\n",
    "# Print table\n",
    "print()\n",
    "print (\"Source     df     Sum of Squares Mean Square     f     P-value\")\n",
    "print (\"A          %0.0f       %0.2f            %0.2f       %0.2f    %0.3f\" %(v_a,SSA,MS_a,fSN_a,pvalue_a))\n",
    "print (\"B          %0.0f       %0.2f           %0.2f       %0.2f    %0.3f\" %(v_b,SSB,MS_b,fSN_b,pvalue_b))\n",
    "print (\"Error      %0.0f      %0.2f            %0.2f\" %(v_error,SSE,MS_error))\n",
    "print (\"Total      %0.0f     %0.2f\" %(v_total,SS_total))"
   ]
  },
  {
   "cell_type": "markdown",
   "metadata": {},
   "source": [
    "# Question 2\n",
    "\n",
    "Four different coatings are being considered for corrosion protection of metal pipe. The pipe will be buried in three different types of soil. To investigate whether the amount of corrosion depends either on the coating or on the type of soil, 12 pieces of pipe are selected. Each piece is coated with one of the four coatings and buried in one of the three types of soil for a fixed time, after which the amount of corrosion (depth of maximum pits, in .0001 in.) is determined. The data appears in the table.\n",
    "\n",
    "(a) Assuming the validity of the additive model, carry out the ANOVA analysis using an ANOVA table to see whether the amount of corrosion depends on either the type of coating used or the type of soil. Use α = .05. (Give answers accurate to 2 decimal places and the p-values to 3 decimal places.)\n",
    "\n",
    "(b) Compute the model parameters. (Give answers to 2 decimal places.)"
   ]
  },
  {
   "cell_type": "code",
   "execution_count": 19,
   "metadata": {},
   "outputs": [
    {
     "name": "stdout",
     "output_type": "stream",
     "text": [
      "           df      sum_sq    mean_sq         F    PR(>F)\n",
      "C(A)      3.0  105.583333  35.194444  2.316271  0.175393\n",
      "C(B)      2.0   80.166667  40.083333  2.638026  0.150655\n",
      "Residual  6.0   91.166667  15.194444       NaN       NaN\n",
      "\n",
      "mu = 50.416666666666664\n",
      "a1 = 4.583333333333336\n",
      "a2 = 0.5833333333333357\n",
      "a3 = -3.0833333333333286\n",
      "a4 = -2.0833333333333286\n",
      "\n",
      "b1 = 3.5833333333333357\n",
      "b2 = -2.4166666666666643\n",
      "b3 = -1.1666666666666643\n"
     ]
    }
   ],
   "source": [
    "xijk = np.array([[63,1,1],[51,1,2],[51,1,3],\n",
    "                [54,2,1],[52,2,2],[47,2,3],\n",
    "                [47,3,1],[46,3,2],[49,3,3],\n",
    "                [52,4,1],[43,4,2],[50,4,3]])\n",
    "\n",
    "df = pd.DataFrame(xijk,columns=['value','A','B'])\n",
    "formula = 'value ~ C(A) + C(B)'\n",
    "lm = ols(formula,df).fit()\n",
    "anovaResults = anova_lm(lm)\n",
    "print (anovaResults)\n",
    "\n",
    "print()\n",
    "mu = sum(np.array([63, 51, 51, 54, 52, 47, 47, 46, 49, 52, 43, 50])) / 12\n",
    "\n",
    "print(\"mu =\", mu )"
   ]
  },
  {
   "cell_type": "markdown",
   "metadata": {},
   "source": [
    "### The model parameters are simply the differences between the group averages and the overall average ($\\mu$)"
   ]
  },
  {
   "cell_type": "code",
   "execution_count": 26,
   "metadata": {},
   "outputs": [],
   "source": [
    "xbarbar = mu"
   ]
  },
  {
   "cell_type": "code",
   "execution_count": 28,
   "metadata": {},
   "outputs": [
    {
     "name": "stdout",
     "output_type": "stream",
     "text": [
      "alpha:  A\n",
      "1    4.583333\n",
      "2    0.583333\n",
      "3   -3.083333\n",
      "4   -2.083333\n",
      "Name: value, dtype: float64\n",
      "alpha:  B\n",
      "1    3.583333\n",
      "2   -2.416667\n",
      "3   -1.166667\n",
      "Name: value, dtype: float64\n"
     ]
    }
   ],
   "source": [
    "x_a = df.groupby(['A'])[['value']].mean()\n",
    "x_a_bb = (x_a['value']-xbarbar)\n",
    "\n",
    "print(\"alpha: \",x_a_bb)\n",
    "\n",
    "x_b = df.groupby(['B'])[['value']].mean()\n",
    "x_b_bb = (x_b['value']-xbarbar)\n",
    "\n",
    "print(\"alpha: \",x_b_bb)"
   ]
  },
  {
   "cell_type": "code",
   "execution_count": null,
   "metadata": {},
   "outputs": [],
   "source": []
  },
  {
   "cell_type": "markdown",
   "metadata": {},
   "source": [
    "# Question 3\n",
    "\n",
    "The article \"Adiabatic Humidification of Air with Water in a Packed Tower\" (Chem. Eng. Prog., 1952: 362-370) reports data on gas film heat transfer coefficient (Btu/hr ft2 on °F) as a function of gas rate (factor A) and liquid rate (factor B).\n",
    "\n",
    "(a) After constructing an ANOVA table, test at level .01 both the hypothesis of no gas-rate effect against the appropriate alternative and the hypothesis of no liquid-rate effect against the appropriate alternative. (Give answers accurate to 1 decimal place.)\n",
    "\n",
    "(b) Use Tukey's procedure to investigate differences in expected heat transfer coefficient due to different gas rates. (Give answers accurate to 2 decimal places.)\n",
    "\n",
    "(c) Repeat part (b) for liquid rates. (Give answers accurate to 2 decimal places.)"
   ]
  },
  {
   "cell_type": "code",
   "execution_count": 59,
   "metadata": {},
   "outputs": [
    {
     "name": "stdout",
     "output_type": "stream",
     "text": [
      "           df       sum_sq        mean_sq           F        PR(>F)\n",
      "C(A)      3.0  324082.1875  108027.395833  105.311956  2.504972e-07\n",
      "C(B)      3.0   39934.1875   13311.395833   12.976793  1.281863e-03\n",
      "Residual  9.0    9232.0625    1025.784722         NaN           NaN\n"
     ]
    }
   ],
   "source": [
    "xijk = np.array([[200,1,1],[226,1,2],[240,1,3], [261,1,4],\n",
    "                [278,2,1],[312,2,2],[330,2,3], [381,2,4],\n",
    "                [369,3,1],[416,3,2],[462,3,3], [517,3,4],\n",
    "                [500,4,1],[575,4,2],[645,4,3], [733,4,4]])\n",
    "\n",
    "df = pd.DataFrame(xijk,columns=['value','A','B'])\n",
    "formula = 'value ~ C(A) + C(B)'\n",
    "lm = ols(formula,df).fit()\n",
    "anovaResults = anova_lm(lm)\n",
    "print (anovaResults)"
   ]
  },
  {
   "cell_type": "code",
   "execution_count": 60,
   "metadata": {},
   "outputs": [
    {
     "name": "stdout",
     "output_type": "stream",
     "text": [
      "Critical F-value A = 6.99\n",
      "Pvalue A = 0.000\n",
      "Reject the null hypothesis ... P-value is less than alpha\n"
     ]
    }
   ],
   "source": [
    "alpha = 0.01\n",
    "v_a = 3\n",
    "v_error = 9\n",
    "\n",
    "fdist_a = stats.f(v_a,v_error)\n",
    "fhigh_a = fdist_a.ppf(1-alpha)\n",
    "\n",
    "print (\"Critical F-value A = %0.2f\" % (fhigh_a))\n",
    "\n",
    "MS_a = 108027.4\n",
    "MS_error = 1025.8\n",
    "fSN_a = MS_a/MS_error\n",
    "\n",
    "if (fSN_a > 1):\n",
    "    pvalue_a = (1-fdist_a.cdf(fSN_a))\n",
    "else:\n",
    "    pvalue_a = fdist_a.cdf(fSN_a)\n",
    "    \n",
    "print (\"Pvalue A = %0.3f\" % (pvalue_a))\n",
    "if (pvalue_a < alpha):\n",
    "    print (\"Reject the null hypothesis ... P-value is less than alpha\")\n",
    "else:\n",
    "    print (\"Fail to reject the null hypothesis ... P-value is greater than alpha\")\n"
   ]
  },
  {
   "cell_type": "code",
   "execution_count": 90,
   "metadata": {},
   "outputs": [
    {
     "name": "stdout",
     "output_type": "stream",
     "text": [
      "10.676037550410628\n",
      "A\n",
      "1     8.555556\n",
      "2    12.444444\n",
      "3    10.777778\n",
      "4     9.222222\n",
      "Name: value, dtype: float64\n",
      "q_tukey: calculating k =  2\n",
      "q_critical =  4.524647757521833\n",
      "q_tukey: calculating k =  3\n",
      "q_critical =  5.426582159217026\n",
      "q_tukey: calculating k =  4\n",
      "q_critical =  5.955182266371887\n",
      "\n",
      "5.955182266371887\n",
      "63.57774949532573\n",
      "B\n",
      "1    12.25\n",
      "2    12.25\n",
      "3    10.75\n",
      "4     9.25\n",
      "5     8.50\n",
      "6    10.25\n",
      "7    10.75\n",
      "8     8.25\n",
      "9    10.00\n",
      "Name: value, dtype: float64\n"
     ]
    },
    {
     "data": {
      "image/png": "[encoded data removed]",
      "text/plain": [
       "<Figure size 432x288 with 1 Axes>"
      ]
     },
     "metadata": {
      "needs_background": "light"
     },
     "output_type": "display_data"
    }
   ],
   "source": [
    "a = 4\n",
    "b = 4\n",
    "std_errorA = np.sqrt(1025.8/9)\n",
    "print(std_errorA)\n",
    "x_a = df.groupby(['A'])[['value']].mean()\n",
    "print(x_a['value'])\n",
    "\n",
    "q_tukeyA = q_tukey(4, 9, 0.01)\n",
    "print()\n",
    "print(q_tukeyA[2])\n",
    "print(std_errorA * q_tukeyA[2])\n",
    "\n",
    "x_b = df.groupby(['B'])[['value']].mean()\n",
    "print(x_b['value'])\n"
   ]
  },
  {
   "cell_type": "markdown",
   "metadata": {},
   "source": [
    "# Question 4\n",
    "\n",
    "In an experiment to assess the effect of the angle of pull on the force required to cause separation in electrical connectors, four different angles (factor A) were used and each of a sample of five connectors (factor B) was pulled once at each angle. The data appears in the accompanying table.\n",
    "\n",
    "Does the data suggest that true average separation force is affected by the angle of pull? State and test the appropriate hypotheses at level .01 by first constructing an ANOVA table (SST = 396.08, SSA = 56.12, SSB = 249.19). (Give answers accurate to 2 decimal places and the p-values to 3 decimal places.)"
   ]
  },
  {
   "cell_type": "code",
   "execution_count": 46,
   "metadata": {},
   "outputs": [
    {
     "name": "stdout",
     "output_type": "stream",
     "text": [
      "v_total = 19\n",
      "v_error = 12\n",
      "SSE = 92.05000000000001\n",
      "19.586666666666666 62.03 7.670833333333334\n",
      "Pvalue A = 0.121\n",
      "\n",
      "F Signal/Noise B = 8.09 \n",
      "Critical F-value B = 5.41\n",
      "Pvalue B = 0.002\n"
     ]
    }
   ],
   "source": [
    "a = 4\n",
    "b = 5\n",
    "n = 1\n",
    "\n",
    "N = n*a*b\n",
    "\n",
    "v_total = N - 1\n",
    "v_a = a - 1\n",
    "v_b = b - 1\n",
    "v_error = v_total - v_a - v_b\n",
    "print(\"v_total =\", v_total)\n",
    "print(\"v_error =\", v_error)\n",
    "\n",
    "SST = 398.93\n",
    "SSA = 58.76\n",
    "SSB = 248.12\n",
    "SSE = SST - SSA - SSB\n",
    "print(\"SSE =\", SSE)\n",
    "\n",
    "# Calculate Mean squares, calculate f values, critical f values, and p values.\n",
    "MSA = SSA/v_a\n",
    "MSB = SSB/v_b\n",
    "MSE = SSE/v_error\n",
    "print(MSA, MSB, MSE)\n",
    "\n",
    "fSN_a = MSA/MSE\n",
    "fSN_b = MSB/MSE\n",
    "\n",
    "if (fSN_a > 1):\n",
    "    pvalue_a = (1-fdist_a.cdf(fSN_a))\n",
    "else:\n",
    "    pvalue_a = fdist_a.cdf(fSN_a)\n",
    "    \n",
    "print (\"Pvalue A = %0.3f\" % (pvalue_a))\n",
    "\n",
    "print()\n",
    "print (\"F Signal/Noise B = %0.2f \" % fSN_b)\n",
    "\n",
    "fdist_b = stats.f(v_b,v_error)\n",
    "fhigh_b = fdist_b.ppf(1-alpha)\n",
    "\n",
    "print (\"Critical F-value B = %0.2f\" % (fhigh_b))\n",
    "\n",
    "if (fSN_b > 1):\n",
    "    pvalue_b = (1-fdist_b.cdf(fSN_b))\n",
    "else:\n",
    "    pvalue_b = fdist_b.cdf(fSN_b)\n",
    "    \n",
    "print (\"Pvalue B = %0.3f\" % (pvalue_b))\n"
   ]
  },
  {
   "cell_type": "markdown",
   "metadata": {},
   "source": [
    "# Question 5\n",
    "\n",
    "The article \"The Effects of a Pneumatic Stool and a One-Legged Stool on Lower Limb Joint Load and Muscular Activity During Sitting and Rising\" (Ergonomics, 1993: 519-535) gives the accompanying data on the effort required of a subject to arise from four different types of stools (Borg Scale).\n",
    "\n",
    "Perform an analysis of variance using α = .05. (Give answers accurate to 2 decimal places.)\n",
    "\n"
   ]
  },
  {
   "cell_type": "code",
   "execution_count": 81,
   "metadata": {},
   "outputs": [
    {
     "name": "stdout",
     "output_type": "stream",
     "text": [
      "            df     sum_sq    mean_sq          F        PR(>F)\n",
      "C(A)       3.0  81.194444  27.064815  22.355641  3.934564e-07\n",
      "C(B)       8.0  66.500000   8.312500   6.866157  1.060853e-04\n",
      "Residual  24.0  29.055556   1.210648        NaN           NaN\n",
      "Critical F-value A = 3.01\n"
     ]
    }
   ],
   "source": [
    "xijk = np.array([[12,1,1],[10,1,2],[7,1,3],[7,1,4],[8,1,5],[9,1,6],[8,1,7],[7,1,8],[9,1,9],\n",
    "                [15,2,1],[14,2,2],[14,2,3],[11,2,4],[11,2,5],[11,2,6],[12,2,7],[11,2,8],[13,2,9],\n",
    "                [12,3,1],[13,3,2],[13,3,3],[10,3,4],[8,3,5],[11,3,6],[12,3,7],[8,3,8],[10,3,9],\n",
    "                [10,4,1],[12,4,2],[9,4,3],[9,4,4],[7,4,5],[10,4,6],[11,4,7],[7,4,8],[8,4,9]])\n",
    "\n",
    "df = pd.DataFrame(xijk,columns=['value','A','B'])\n",
    "formula = 'value ~ C(A) + C(B)'\n",
    "lm = ols(formula,df).fit()\n",
    "anovaResults = anova_lm(lm)\n",
    "print (anovaResults)\n",
    "\n",
    "alpha = 0.05\n",
    "v_a = 3\n",
    "v_error = 24\n",
    "fdist_a = stats.f(v_a,v_error)\n",
    "fhigh_a = fdist_a.ppf(1-alpha)\n",
    "\n",
    "print (\"Critical F-value A = %0.2f\" % (fhigh_a))\n"
   ]
  },
  {
   "cell_type": "code",
   "execution_count": null,
   "metadata": {},
   "outputs": [],
   "source": []
  },
  {
   "cell_type": "markdown",
   "metadata": {},
   "source": [
    "# Question 6\n",
    "\n",
    "In an experiment to assess the effects of curing time (factor A) and type of mix (factor B) on the compressive strength of hardened cement cubes, three different curing times were used in combination with four different mixes, with three observations obtained for each of the 12 curing time-mix combinations. The resulting sums of squares were computed to be SSA = 29,521.1, SSB = 35,170.8, SSE = 97,521.8, and SST = 205,578.5.\n",
    "\n",
    "(a) Construct an ANOVA table. (Give df as exact integers, SS and MS to 1 decimal place, F to 2 decimal places, and p-values to 3 decimal places.)\n",
    "\n",
    "(b) Test at level .05 the null hypothesis HoAB: all γij's = 0 (no interaction of factors) against HaAB: at least one γij ≠ 0.\n",
    "\n",
    "(c) Test at level .05 the null hypothesis HoA: α1 = α2 = α3 = 0 (factor A main effects are absent) against HaA: at least one αi ≠ 0.\n",
    "\n",
    "(d) Test HoB: β1 = β2 = β3 = β4 = 0 versus HaB: at least one βj ≠ 0 using a level .05 test.\n",
    "\n",
    "(e) The values of the xi..'s were x1.. = 4010.88, x2.. = 4029.10, and x3.. = 3960.02. Use Tukey's procedure to investigate significant differences among the three curing times. (Give answer accurate to 2 decimal places.)\n"
   ]
  },
  {
   "cell_type": "code",
   "execution_count": 57,
   "metadata": {},
   "outputs": [
    {
     "name": "stdout",
     "output_type": "stream",
     "text": [
      "SSAB =  46831.600000000006\n",
      "v_a = 2\n",
      "v_b = 3\n",
      "v_ab = 6\n",
      "v_error = 24\n",
      "MS_a=14653.90,  MS_b=11476.10, MS_error=4016.50,  MS_ab=7805.27\n",
      "F_a=3.65,  F_b=2.86, F_ab=1.94\n",
      "pvalue_a=0.036,  pvalue_b=0.071, pvalue_ab=0.168\n"
     ]
    }
   ],
   "source": [
    "a = 3\n",
    "b = 4\n",
    "n = 3\n",
    "N = a*b*n\n",
    "\n",
    "SSA  = 29307.8\n",
    "SSB = 34428.3\n",
    "SSE = 96395.9\n",
    "SST = 206963.6\n",
    "SSAB = SST - SSA - SSB - SSE\n",
    "print(\"SSAB = \", SSAB)\n",
    "\n",
    "v_total = N - 1\n",
    "v_a = a - 1\n",
    "print(\"v_a =\", v_a)\n",
    "v_b = b - 1\n",
    "print(\"v_b =\", v_b)\n",
    "v_ab  = v_a*v_b\n",
    "print(\"v_ab =\", v_ab)\n",
    "v_error = v_total - v_a - v_b - v_ab\n",
    "print(\"v_error =\", v_error)\n",
    "\n",
    "MS_a = SSA/v_a\n",
    "MS_b = SSB/v_b\n",
    "MS_error = SSE/v_error\n",
    "MS_ab = SSAB / v_ab\n",
    "print(\"MS_a=%0.2f,  MS_b=%0.2f, MS_error=%0.2f,  MS_ab=%0.2f\" % (MS_a, MS_b, MS_error, MS_ab))\n",
    "\n",
    "fSN_a = MS_a/MS_error\n",
    "fSN_b = MS_b/MS_error\n",
    "fSN_ab = MS_ab/MS_error\n",
    "print(\"F_a=%0.2f,  F_b=%0.2f, F_ab=%0.2f\" % (fSN_a, fSN_b, fSN_ab))\n",
    "\n",
    "pvalue_a = (1-fdist_b.cdf(fSN_a))\n",
    "pvalue_b = (1-fdist_b.cdf(fSN_b))\n",
    "pvalue_ab = (1-fdist_b.cdf(fSN_ab))\n",
    "print(\"pvalue_a=%0.3f,  pvalue_b=%0.3f, pvalue_ab=%0.3f\" % (pvalue_a, pvalue_b, pvalue_ab))"
   ]
  },
  {
   "cell_type": "code",
   "execution_count": null,
   "metadata": {},
   "outputs": [],
   "source": []
  },
  {
   "cell_type": "code",
   "execution_count": null,
   "metadata": {},
   "outputs": [],
   "source": []
  },
  {
   "cell_type": "code",
   "execution_count": null,
   "metadata": {},
   "outputs": [],
   "source": []
  },
  {
   "cell_type": "markdown",
   "metadata": {},
   "source": [
    "# Question 7\n",
    "\n",
    "To see whether thrust force in drilling is affected by drilling speed (A), feed rate (B), or material used (C), an experiment using four speeds, three rates, and two materials was performed, with two samples (L = 2) drilled at each combination of levels of the three factors. Sums of squares were calculated as follows: SSA = 19,122.02, SSB = 2,589,419.28, SSC = 158,083.12, SSAB = 52,465.89, SSAC = 9,046.12, SSBC = 92,061.74, and SSE = 57,721.17, and SST = 3,011,312.03. Construct the ANOVA table and identify significant interactions using α = 0.01. (Give SS and MS accurate to 1 decimal place, F values to 2 decimal places, and Df as exact integers.)"
   ]
  },
  {
   "cell_type": "code",
   "execution_count": 68,
   "metadata": {},
   "outputs": [
    {
     "name": "stdout",
     "output_type": "stream",
     "text": [
      "SSABC = 18020.63000000029\n"
     ]
    }
   ],
   "source": [
    "SSA = 19127.84\n",
    "SSB = 2589515.55\n",
    "SSC = 158042.95\n",
    "SSAB = 52405.89\n",
    "SSAC = 9031.74\n",
    "SSBC = 92289.90\n",
    "SSE = 57252.21\n",
    "SST = 2995686.71\n",
    "SSABC = SST - SSA - SSB - SSC - SSAB- SSAC - SSBC- SSE\n",
    "print(\"SSABC =\", SSABC)"
   ]
  },
  {
   "cell_type": "code",
   "execution_count": 76,
   "metadata": {},
   "outputs": [
    {
     "name": "stdout",
     "output_type": "stream",
     "text": [
      "v_total = 47\n",
      "v_a = 3\n",
      "v_b = 2\n",
      "v_c = 1\n",
      "v_ab = 6\n",
      "v_ac = 3\n",
      "v_bc = 2\n",
      "v_abc = 6\n",
      "v_error = 24\n",
      "MS_a=6375.95,   MS_b=1294757.77   MS_c=158042.95\n",
      "MS_ab=8734.32,   MS_ac=3010.58   MS_bc=46144.95\n",
      "MS_abc=3003.44,   MS_error=2385.51  \n"
     ]
    }
   ],
   "source": [
    "a = 4\n",
    "b = 3\n",
    "c = 2\n",
    "n = 2\n",
    "N = a*b*c*n\n",
    "\n",
    "v_total = N - 1\n",
    "print(\"v_total =\", v_total)\n",
    "v_a = a - 1\n",
    "print(\"v_a =\", v_a)\n",
    "v_b = b - 1\n",
    "print(\"v_b =\", v_b)\n",
    "v_c  = c - 1\n",
    "print(\"v_c =\", v_c)\n",
    "\n",
    "v_ab  = v_a*v_b\n",
    "print(\"v_ab =\", v_ab)\n",
    "v_ac  = v_a*v_c\n",
    "print(\"v_ac =\", v_ac)\n",
    "v_bc  = v_b*v_c\n",
    "print(\"v_bc =\", v_bc)\n",
    "\n",
    "v_abc = v_a*v_b*v_c\n",
    "print(\"v_abc =\", v_abc)\n",
    "\n",
    "v_error = v_total - v_a - v_b - v_ab - v_bc - v_ac -v_abc - v_c\n",
    "print(\"v_error =\", v_error)\n",
    "\n",
    "\n",
    "\n",
    "MS_a = SSA/v_a\n",
    "MS_b = SSB/v_b\n",
    "MS_c = SSC/v_c\n",
    "MS_ab = SSAB/v_ab\n",
    "MS_ac = SSAC/v_ac\n",
    "MS_bc = SSBC/v_bc\n",
    "MS_abc = SSABC/v_abc\n",
    "MS_error = SSE/v_error\n",
    "\n",
    "print(\"MS_a=%.2f,   MS_b=%.2f   MS_c=%.2f\" % (MS_a, MS_b, MS_c))\n",
    "print(\"MS_ab=%.2f,   MS_ac=%.2f   MS_bc=%.2f\" % (MS_ab, MS_ac, MS_bc))\n",
    "print(\"MS_abc=%.2f,   MS_error=%.2f  \" % (MS_abc, MS_error))"
   ]
  },
  {
   "cell_type": "code",
   "execution_count": 79,
   "metadata": {},
   "outputs": [
    {
     "name": "stdout",
     "output_type": "stream",
     "text": [
      "F_a=2.67,  F_b=542.76, F_c=66.25\n",
      "F_ab=3.66,  F_ac=1.26, F_bc=19.34\n",
      "F_a=1.26\n",
      "pvalue_a=0.084,  pvalue_b=0.000, pvalue_c=0.000\n",
      "pvalue_ab=0.036,  pvalue_ac=0.338, pvalue_bc=0.000\n",
      "pvalue_abc=0.339\n"
     ]
    }
   ],
   "source": [
    "fSN_a = MS_a/MS_error\n",
    "fSN_b = MS_b/MS_error\n",
    "fSN_c = MS_c/MS_error\n",
    "fSN_ab = MS_ab/MS_error\n",
    "fSN_ac = MS_ac/MS_error\n",
    "fSN_bc = MS_bc/MS_error\n",
    "fSN_abc = MS_abc/MS_error\n",
    "print(\"F_a=%0.2f,  F_b=%0.2f, F_c=%0.2f\" % (fSN_a, fSN_b, fSN_c))\n",
    "print(\"F_ab=%0.2f,  F_ac=%0.2f, F_bc=%0.2f\" % (fSN_ab, fSN_ac, fSN_bc))\n",
    "print(\"F_a=%0.2f\" % (fSN_abc))\n",
    "\n",
    "\n",
    "pvalue_a = (1-fdist_b.cdf(fSN_a))\n",
    "pvalue_b = (1-fdist_b.cdf(fSN_b))\n",
    "pvalue_c = (1-fdist_b.cdf(fSN_c))\n",
    "pvalue_ab = (1-fdist_b.cdf(fSN_ab))\n",
    "pvalue_ac = (1-fdist_b.cdf(fSN_ac))\n",
    "pvalue_bc = (1-fdist_b.cdf(fSN_bc))\n",
    "pvalue_abc = (1-fdist_b.cdf(fSN_abc))\n",
    "\n",
    "print(\"pvalue_a=%0.3f,  pvalue_b=%0.3f, pvalue_c=%0.3f\" % (pvalue_a, pvalue_b, pvalue_c))\n",
    "print(\"pvalue_ab=%0.3f,  pvalue_ac=%0.3f, pvalue_bc=%0.3f\" % (pvalue_ab, pvalue_ac, pvalue_bc))\n",
    "print(\"pvalue_abc=%0.3f\" % (pvalue_abc))"
   ]
  },
  {
   "cell_type": "markdown",
   "metadata": {},
   "source": [
    "# Question 8\n",
    "\n",
    "In an automated chemical coating process, the speed with which objects on a conveyor belt are passed through a chemical spray (belt speed), the amount of chemical sprayed (spray volume), and the brand of chemical used (brand) are factors that may affect the uniformity of the coating applied. A replicated $2^3$ experiment was conducted in an effort to increase the coating uniformity. In the following table, higher values of the response variable are associated with higher surface uniformity.\n",
    "\n",
    "Analyze this data and state your conclusions. Let A = spray volume, B = belt speed, C = brand. (Use α = 0.05. Give answers accurate to 2 decimal places and Df as exact integers.)"
   ]
  },
  {
   "cell_type": "code",
   "execution_count": null,
   "metadata": {},
   "outputs": [],
   "source": []
  },
  {
   "cell_type": "code",
   "execution_count": null,
   "metadata": {},
   "outputs": [],
   "source": []
  }
 ],
 "metadata": {
  "kernelspec": {
   "display_name": "Python 3",
   "language": "python",
   "name": "python3"
  },
  "language_info": {
   "codemirror_mode": {
    "name": "ipython",
    "version": 3
   },
   "file_extension": ".py",
   "mimetype": "text/x-python",
   "name": "python",
   "nbconvert_exporter": "python",
   "pygments_lexer": "ipython3",
   "version": "3.7.2"
  }
 },
 "nbformat": 4,
 "nbformat_minor": 2
}
